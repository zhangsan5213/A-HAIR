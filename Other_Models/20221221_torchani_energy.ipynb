{
 "cells": [
  {
   "cell_type": "code",
   "execution_count": 1,
   "id": "463fb5bc",
   "metadata": {},
   "outputs": [
    {
     "name": "stdout",
     "output_type": "stream",
     "text": [
      "<stdin>:1:18: fatal error: cuda.h: No such file or directory\n",
      "compilation terminated.\n",
      "\n",
      "<stdin>:1:18: fatal error: cuda.h: No such file or directory\n",
      "compilation terminated.\n",
      "\n",
      "<stdin>:1:18: fatal error: cuda.h: No such file or directory\n",
      "compilation terminated.\n",
      "\n",
      "<stdin>:1:18: fatal error: cuda.h: No such file or directory\n",
      "compilation terminated.\n",
      "\n"
     ]
    }
   ],
   "source": [
    "import torch\n",
    "import torch.nn as nn\n",
    "import torch.nn.functional as F\n",
    "import torchani\n",
    "import random\n",
    "import pickle\n",
    "import numpy as np\n",
    "import itertools\n",
    "import warnings\n",
    "warnings.filterwarnings('ignore')\n",
    "\n",
    "from ase import units, Atoms\n",
    "from ase.build import molecule\n",
    "from tqdm import tqdm\n",
    "from copy import deepcopy\n",
    "from torch import optim\n",
    "from scipy.constants import speed_of_light, N_A\n",
    "from geomloss.samples_loss import SamplesLoss\n",
    "\n",
    "import matplotlib\n",
    "import matplotlib.pyplot as plt\n",
    "\n",
    "import schnetpack as spk\n",
    "from schnetpack.datasets import QM9\n",
    "\n",
    "from adamAsynch import Adam"
   ]
  },
  {
   "cell_type": "markdown",
   "id": "e7a2a0c9",
   "metadata": {},
   "source": [
    "# Train the force field"
   ]
  },
  {
   "cell_type": "code",
   "execution_count": 27,
   "id": "1a53de72",
   "metadata": {},
   "outputs": [],
   "source": [
    "device = torch.device('cuda' if torch.cuda.is_available() else 'cpu')\n",
    "model = torchani.models.ANI2x(periodic_table_index=True).to(device)"
   ]
  },
  {
   "cell_type": "code",
   "execution_count": 3,
   "id": "f085b0fa",
   "metadata": {},
   "outputs": [],
   "source": [
    "ANI_model_params_H = [[j for j in i.H] for i in model.neural_networks]\n",
    "ANI_model_params_C = [[j for j in i.C] for i in model.neural_networks]\n",
    "ANI_model_params_N = [[j for j in i.N] for i in model.neural_networks]\n",
    "ANI_model_params_O = [[j for j in i.O] for i in model.neural_networks]\n",
    "ANI_model_params_S = [[j for j in i.S] for i in model.neural_networks]\n",
    "ANI_model_params_Cl = [[j for j in i.Cl] for i in model.neural_networks]\n",
    "ANI_model_params_list = [ANI_model_params_H, ANI_model_params_C, ANI_model_params_N, ANI_model_params_O, ANI_model_params_S, ANI_model_params_Cl]\n",
    "ANI_model_params_elems = list(itertools.chain(*[list(itertools.chain(*i)) for i in ANI_model_params_list]))\n",
    "\n",
    "ANI_model_params_elems = ANI_model_params_elems[:72] + ANI_model_params_elems[73:]\n",
    "ANI_model_params_elems = ANI_model_params_elems[:91] + ANI_model_params_elems[91:]"
   ]
  },
  {
   "cell_type": "code",
   "execution_count": 4,
   "id": "1e0e2262",
   "metadata": {},
   "outputs": [],
   "source": [
    "atomic_nums_dict = {\"H\":1, \"B\":5, \"C\":6, \"N\":7, \"O\":8, \"F\":9, \"S\":16, \"Cl\":17, \"Br\":35}\n",
    "atomic_mass_dict = {1:1, 6:12, 7:14, 8:16, 9:19, 16:32, 17:35.5}\n",
    "atomic_syms_dict = {1:\"H\", 5:\"B\", 6:\"C\", 7:\"N\", 8:\"O\", 9:\"F\", 16:\"S\", 17:\"Cl\", 35:\"Br\"}"
   ]
  },
  {
   "cell_type": "code",
   "execution_count": 3,
   "id": "e75f7102",
   "metadata": {},
   "outputs": [],
   "source": [
    "data = pickle.load(open(\"/data/lrl/QM9_bugger/qm9_Full_1.pickle\", \"rb\")) + \\\n",
    "       pickle.load(open(\"/data/lrl/QM9_bugger/qm9_Full_2.pickle\", \"rb\")) + \\\n",
    "       pickle.load(open(\"/data/lrl/QM9_bugger/qm9_Full_3.pickle\", \"rb\")) + \\\n",
    "       pickle.load(open(\"/data/lrl/QM9_bugger/qm9_Full_4.pickle\", \"rb\")) + \\\n",
    "       pickle.load(open(\"/data/lrl/QM9_bugger/qm9_Full_5.pickle\", \"rb\"))\n",
    "dataset_qm = [[data[i][\"atoms\"], data[i][\"coord\"], data[i][\"Sum of electronic and thermal Free Energies\"]/27.2114,\n",
    "            data[i][\"freq\"], data[i][\"IR Inten\"]] for i in range(len(data))]\n",
    "\n",
    "data = pickle.load(open(\"/data/lrl/NAS_503_share/BindingDB_pickle/1.pkl\", \"rb\")) + \\\n",
    "       pickle.load(open(\"/data/lrl/NAS_503_share/BindingDB_pickle/2.pkl\", \"rb\")) + \\\n",
    "       pickle.load(open(\"/data/lrl/NAS_503_share/BindingDB_pickle/3.pkl\", \"rb\")) + \\\n",
    "       pickle.load(open(\"/data/lrl/NAS_503_share/BindingDB_pickle/4.pkl\", \"rb\")) + \\\n",
    "       pickle.load(open(\"/data/lrl/NAS_503_share/BindingDB_pickle/5.pkl\", \"rb\"))\n",
    "dataset_bdb = [[data[i][\"atoms\"], data[i][\"coord\"], data[i][\"Sum of electronic and thermal Free Energies\"]/27.2114,\n",
    "            data[i][\"freq\"], data[i][\"IR Inten\"]] for i in range(len(data))]\n",
    "\n",
    "\n",
    "data = pickle.load(open(\"/data/lrl/NAS_503_share/ChemBL_pickle/1.pkl\", \"rb\")) + \\\n",
    "       pickle.load(open(\"/data/lrl/NAS_503_share/ChemBL_pickle/2.pkl\", \"rb\")) + \\\n",
    "       pickle.load(open(\"/data/lrl/NAS_503_share/ChemBL_pickle/3.pkl\", \"rb\")) + \\\n",
    "       pickle.load(open(\"/data/lrl/NAS_503_share/ChemBL_pickle/4.pkl\", \"rb\")) + \\\n",
    "       pickle.load(open(\"/data/lrl/NAS_503_share/ChemBL_pickle/5.pkl\", \"rb\"))\n",
    "dataset_cbl = [[data[i][\"atoms\"], data[i][\"coord\"], data[i][\"Sum of electronic and thermal Free Energies\"]/27.2114,\n",
    "            data[i][\"freq\"], data[i][\"IR Inten\"]] for i in range(len(data))]"
   ]
  },
  {
   "cell_type": "code",
   "execution_count": 4,
   "id": "029d9042",
   "metadata": {},
   "outputs": [],
   "source": [
    "dataset = dataset_qm + dataset_bdb + dataset_cbl\n",
    "random.shuffle(dataset)"
   ]
  },
  {
   "cell_type": "code",
   "execution_count": 11,
   "id": "0cf6c171",
   "metadata": {},
   "outputs": [],
   "source": [
    "loss_fn = nn.MSELoss()\n",
    "\n",
    "def train(_epoch, _model, _opt, _dataset, num=8):\n",
    "    _model.train()\n",
    "    _opt.zero_grad()\n",
    "    total_loss = 0\n",
    "    random.shuffle(_dataset)\n",
    "    \n",
    "    for atoms, coord, energy, freqs, intns in tqdm(_dataset[:num], ncols=50):\n",
    "\n",
    "        coordinates = torch.tensor([coord], requires_grad=True, device=device, dtype=torch.float32).view(1,-1,3)\n",
    "        species = torch.tensor(np.array([atoms]), device=device).view(1,-1)\n",
    "        energies = _model((species, coordinates)).energies/27.2114 ## hatree to eV    \n",
    "\n",
    "        loss = loss_fn(energies, torch.Tensor([energy]).double().to(\"cuda\"))\n",
    "        loss.backward()\n",
    "        _opt.step()\n",
    "        total_loss += loss.item()\n",
    "    \n",
    "    print(\"Train epoch: {}, the training loss is {}.\".format(str(_epoch).rjust(4,\"0\"), total_loss))    \n",
    "    return total_loss/num\n",
    "\n",
    "def test(_model, _data):\n",
    "    _model.eval()\n",
    "    atoms, coord, energy, freqs, intns = _data\n",
    "    coordinates = torch.tensor([coord], requires_grad=True, device=device, dtype=torch.float32).view(1,-1,3)\n",
    "    species = torch.tensor(np.array([atoms]), device=device).view(1,-1)\n",
    "    energies = _model((species, coordinates)).energies/27.2114 ## hatree to eV   \n",
    "    return energies"
   ]
  },
  {
   "cell_type": "code",
   "execution_count": 77,
   "id": "ced73e50",
   "metadata": {},
   "outputs": [],
   "source": [
    "opts = []\n",
    "for i in tqdm(range(int(len(ANI_model_params_elems))), ncols=50):\n",
    "    opts.append(Adam([{'params': ANI_model_params_elems[i].parameters()}], lr=5e-4))"
   ]
  },
  {
   "cell_type": "code",
   "execution_count": 29,
   "id": "0bfbaa81",
   "metadata": {},
   "outputs": [],
   "source": [
    "losses = []"
   ]
  },
  {
   "cell_type": "code",
   "execution_count": 14,
   "id": "b90d7577",
   "metadata": {},
   "outputs": [],
   "source": [
    "for i in range(len(ANI_model_params_elems)):\n",
    "    losses.append(train(i, model, opts[i], dataset, num=64))\n",
    "\n",
    "    torch.save(model.state_dict(),\n",
    "               \"./models/asynch_torchani_models_20221210/{}_{}.pt\".format(str(i).rjust(3, \"0\"), losses[-1]))"
   ]
  },
  {
   "cell_type": "code",
   "execution_count": null,
   "id": "cabdbafa",
   "metadata": {},
   "outputs": [],
   "source": []
  },
  {
   "cell_type": "code",
   "execution_count": null,
   "id": "cf825188",
   "metadata": {},
   "outputs": [],
   "source": []
  },
  {
   "cell_type": "markdown",
   "id": "04c9f588",
   "metadata": {},
   "source": [
    "# Test the tuning result"
   ]
  },
  {
   "cell_type": "code",
   "execution_count": 65,
   "id": "0207d4d9",
   "metadata": {},
   "outputs": [],
   "source": [
    "def test_accuracy(_model, _dataset):\n",
    "    _model.eval()\n",
    "    truth, preds = [], []\n",
    "    for data in tqdm(_dataset, ncols=80):\n",
    "        atoms, coord, energy, freqs, intns = data\n",
    "        coordinates = torch.tensor([coord], requires_grad=True, device=device, dtype=torch.float32).view(1,-1,3)\n",
    "        species = torch.tensor(np.array([atoms]), device=device).view(1,-1)\n",
    "        energies = _model((species, coordinates)).energies/27.2114 ## hatree to eV\n",
    "        truth.append(energy)\n",
    "        preds.append(energies.item())\n",
    "    return truth, preds"
   ]
  },
  {
   "cell_type": "code",
   "execution_count": 95,
   "id": "324838cc",
   "metadata": {},
   "outputs": [
    {
     "name": "stderr",
     "output_type": "stream",
     "text": [
      "100%|███████████████████████████████████████| 1000/1000 [00:21<00:00, 46.67it/s]\n"
     ]
    },
    {
     "data": {
      "text/plain": [
       "0.01002023534619448"
      ]
     },
     "execution_count": 95,
     "metadata": {},
     "output_type": "execute_result"
    }
   ],
   "source": [
    "t, p = test_accuracy(vanilla_model, dataset_qm[:1000])\n",
    "(((np.array(t)-np.array(p))**2).sum()/len(t)) ** 0.5"
   ]
  },
  {
   "cell_type": "code",
   "execution_count": 96,
   "id": "3a8ecea4",
   "metadata": {},
   "outputs": [
    {
     "data": {
      "text/plain": [
       "<matplotlib.collections.PathCollection at 0x7fc84a3bdaf0>"
      ]
     },
     "execution_count": 96,
     "metadata": {},
     "output_type": "execute_result"
    },
    {
     "data": {
      "image/png": "[encoded data removed]",
      "text/plain": [
       "<Figure size 432x288 with 1 Axes>"
      ]
     },
     "metadata": {
      "needs_background": "light"
     },
     "output_type": "display_data"
    }
   ],
   "source": [
    "plt.scatter(t, p)"
   ]
  },
  {
   "cell_type": "code",
   "execution_count": 97,
   "id": "cbeb50b5",
   "metadata": {},
   "outputs": [
    {
     "name": "stderr",
     "output_type": "stream",
     "text": [
      "100%|███████████████████████████████████████| 1000/1000 [00:25<00:00, 39.28it/s]\n"
     ]
    },
    {
     "data": {
      "text/plain": [
       "66.13329511425619"
      ]
     },
     "execution_count": 97,
     "metadata": {},
     "output_type": "execute_result"
    }
   ],
   "source": [
    "t, p = test_accuracy(vanilla_model, dataset_bdb[:1000])\n",
    "(((np.array(t)-np.array(p))**2).sum()/len(t)) ** 0.5"
   ]
  },
  {
   "cell_type": "code",
   "execution_count": 98,
   "id": "3e777573",
   "metadata": {},
   "outputs": [
    {
     "data": {
      "text/plain": [
       "(-200.0, 0.0)"
      ]
     },
     "execution_count": 98,
     "metadata": {},
     "output_type": "execute_result"
    },
    {
     "data": {
      "image/png": "[encoded data removed]",
      "text/plain": [
       "<Figure size 432x288 with 1 Axes>"
      ]
     },
     "metadata": {
      "needs_background": "light"
     },
     "output_type": "display_data"
    }
   ],
   "source": [
    "plt.scatter(t, p)\n",
    "plt.xlim(-200, 0)\n",
    "plt.ylim(-200, 0)"
   ]
  },
  {
   "cell_type": "code",
   "execution_count": 99,
   "id": "1f128345",
   "metadata": {},
   "outputs": [
    {
     "name": "stderr",
     "output_type": "stream",
     "text": [
      "100%|███████████████████████████████████████| 1000/1000 [00:22<00:00, 44.47it/s]\n"
     ]
    },
    {
     "data": {
      "text/plain": [
       "24.083002752669262"
      ]
     },
     "execution_count": 99,
     "metadata": {},
     "output_type": "execute_result"
    }
   ],
   "source": [
    "t, p = test_accuracy(vanilla_model, dataset_cbl[:1000])\n",
    "(((np.array(t)-np.array(p))**2).sum()/len(t)) ** 0.5"
   ]
  },
  {
   "cell_type": "code",
   "execution_count": 101,
   "id": "92bbe579",
   "metadata": {},
   "outputs": [
    {
     "data": {
      "text/plain": [
       "<matplotlib.collections.PathCollection at 0x7fc850b962b0>"
      ]
     },
     "execution_count": 101,
     "metadata": {},
     "output_type": "execute_result"
    },
    {
     "data": {
      "image/png": "[encoded data removed]",
      "text/plain": [
       "<Figure size 432x288 with 1 Axes>"
      ]
     },
     "metadata": {
      "needs_background": "light"
     },
     "output_type": "display_data"
    }
   ],
   "source": [
    "plt.scatter(t, p)\n",
    "plt.xlim(-150, 0)\n",
    "plt.ylim(-150, 0)"
   ]
  },
  {
   "cell_type": "code",
   "execution_count": null,
   "id": "b71126ff",
   "metadata": {},
   "outputs": [],
   "source": []
  },
  {
   "cell_type": "code",
   "execution_count": null,
   "id": "212619e7",
   "metadata": {},
   "outputs": [],
   "source": []
  },
  {
   "cell_type": "markdown",
   "id": "b2af5918",
   "metadata": {},
   "source": [
    "# Show the result of the vanilla model"
   ]
  },
  {
   "cell_type": "code",
   "execution_count": 54,
   "id": "7d18827c",
   "metadata": {},
   "outputs": [],
   "source": [
    "vanilla_model = torchani.models.ANI2x(periodic_table_index=True).to(device)"
   ]
  },
  {
   "cell_type": "code",
   "execution_count": 60,
   "id": "d2a153f0",
   "metadata": {},
   "outputs": [],
   "source": [
    "import os\n",
    "models = os.listdir(\"./models/synch_torchani_models_20221210/\")\n",
    "test_results = []\n",
    "for m in tqdm(models, ncols=50):\n",
    "    model.load_state_dict(torch.load(\"./models/synch_torchani_models_20221210/\" + m))\n",
    "    test_results.append(test_accuracy(model, dataset_qm[:100]))\n",
    "temp = []\n",
    "for t, p in test_results:\n",
    "    temp.append((((np.array(t)-np.array(p))**2).sum()/len(t)) ** 0.5)\n",
    "min(temp)"
   ]
  },
  {
   "cell_type": "code",
   "execution_count": 61,
   "id": "4342460c",
   "metadata": {},
   "outputs": [
    {
     "name": "stderr",
     "output_type": "stream",
     "text": [
      "100%|███████████████████████████████████████| 5000/5000 [01:31<00:00, 54.80it/s]\n"
     ]
    },
    {
     "data": {
      "text/plain": [
       "0.011464223536300054"
      ]
     },
     "execution_count": 61,
     "metadata": {},
     "output_type": "execute_result"
    }
   ],
   "source": [
    "a, b = test_accuracy(vanilla_model, dataset_qm[:5000])\n",
    "(((np.array(a)-np.array(b))**2).sum()/len(b)) ** 0.5"
   ]
  },
  {
   "cell_type": "code",
   "execution_count": null,
   "id": "059dbe4c",
   "metadata": {},
   "outputs": [],
   "source": []
  },
  {
   "cell_type": "code",
   "execution_count": 59,
   "id": "14540b70",
   "metadata": {},
   "outputs": [],
   "source": [
    "import os\n",
    "models = os.listdir(\"./models/synch_torchani_models_20221210/\")\n",
    "test_results = []\n",
    "for m in tqdm(models, ncols=50):\n",
    "    model.load_state_dict(torch.load(\"./models/synch_torchani_models_20221210/\" + m))\n",
    "    test_results.append(test_accuracy(model, dataset_bdb[:100]))\n",
    "temp_chembl = []\n",
    "for t, p in test_results:\n",
    "    temp_chembl.append((((np.array(t)-np.array(p))**2).sum()/len(t)) ** 0.5)\n",
    "min(temp_chembl)"
   ]
  },
  {
   "cell_type": "code",
   "execution_count": 62,
   "id": "b8f98ff0",
   "metadata": {},
   "outputs": [
    {
     "name": "stderr",
     "output_type": "stream",
     "text": [
      "100%|███████████████████████████████████████| 5000/5000 [01:40<00:00, 49.65it/s]\n"
     ]
    },
    {
     "data": {
      "text/plain": [
       "39.56450639473345"
      ]
     },
     "execution_count": 62,
     "metadata": {},
     "output_type": "execute_result"
    }
   ],
   "source": [
    "a, b = test_accuracy(vanilla_model, dataset_bdb[:5000])\n",
    "(((np.array(a)-np.array(b))**2).sum()/len(b)) ** 0.5"
   ]
  },
  {
   "cell_type": "code",
   "execution_count": null,
   "id": "22c38e21",
   "metadata": {},
   "outputs": [],
   "source": []
  },
  {
   "cell_type": "code",
   "execution_count": 58,
   "id": "4d08d91a",
   "metadata": {},
   "outputs": [],
   "source": [
    "import os\n",
    "models = os.listdir(\"./models/synch_torchani_models_20221210/\")\n",
    "test_results = []\n",
    "for m in tqdm(models, ncols=50):\n",
    "    model.load_state_dict(torch.load(\"./models/synch_torchani_models_20221210/\" + m))\n",
    "    test_results.append(test_accuracy(model, dataset_cbl[:100]))\n",
    "temp_chembl = []\n",
    "for t, p in test_results:\n",
    "    temp_chembl.append((((np.array(t)-np.array(p))**2).sum()/len(t)) ** 0.5)\n",
    "min(temp_chembl)"
   ]
  },
  {
   "cell_type": "code",
   "execution_count": 63,
   "id": "6240b3cd",
   "metadata": {},
   "outputs": [
    {
     "name": "stderr",
     "output_type": "stream",
     "text": [
      "100%|███████████████████████████████████████| 5000/5000 [01:55<00:00, 43.14it/s]\n"
     ]
    },
    {
     "data": {
      "text/plain": [
       "21.886382991763497"
      ]
     },
     "execution_count": 63,
     "metadata": {},
     "output_type": "execute_result"
    }
   ],
   "source": [
    "a, b = test_accuracy(vanilla_model, dataset_cbl[:5000])\n",
    "(((np.array(a)-np.array(b))**2).sum()/len(b)) ** 0.5"
   ]
  },
  {
   "cell_type": "code",
   "execution_count": null,
   "id": "b3e95867",
   "metadata": {},
   "outputs": [],
   "source": []
  },
  {
   "cell_type": "code",
   "execution_count": null,
   "id": "7c4a1245",
   "metadata": {},
   "outputs": [],
   "source": []
  }
 ],
 "metadata": {
  "kernelspec": {
   "display_name": "torch",
   "language": "python",
   "name": "torch"
  },
  "language_info": {
   "codemirror_mode": {
    "name": "ipython",
    "version": 3
   },
   "file_extension": ".py",
   "mimetype": "text/x-python",
   "name": "python",
   "nbconvert_exporter": "python",
   "pygments_lexer": "ipython3",
   "version": "3.8.11"
  }
 },
 "nbformat": 4,
 "nbformat_minor": 5
}
